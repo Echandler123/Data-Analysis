{
 "cells": [
  {
   "cell_type": "markdown",
   "metadata": {},
   "source": [
    "## Data Analysis of Electric Vehicles"
   ]
  },
  {
   "cell_type": "markdown",
   "metadata": {},
   "source": [
    "## 1. Import Libraries"
   ]
  },
  {
   "cell_type": "code",
   "execution_count": 454,
   "metadata": {},
   "outputs": [],
   "source": [
    "import pandas as pd\n",
    "import matplotlib.pyplot as plt\n",
    "import seaborn as sns"
   ]
  },
  {
   "cell_type": "markdown",
   "metadata": {},
   "source": [
    "## 2. Load the Dataset"
   ]
  },
  {
   "cell_type": "code",
   "execution_count": 455,
   "metadata": {},
   "outputs": [],
   "source": [
    "df = pd.read_csv(\"data/Electric_Vehicle_Population_Data.csv\")"
   ]
  },
  {
   "cell_type": "markdown",
   "metadata": {},
   "source": [
    "Data \"Electric Vehicle Population Dataset\" from Kaggle "
   ]
  },
  {
   "cell_type": "code",
   "execution_count": 456,
   "metadata": {},
   "outputs": [
    {
     "data": {
      "text/plain": [
       "(166800, 17)"
      ]
     },
     "execution_count": 456,
     "metadata": {},
     "output_type": "execute_result"
    }
   ],
   "source": [
    "# Finding size of datatset\n",
    "df.shape"
   ]
  },
  {
   "cell_type": "code",
   "execution_count": 457,
   "metadata": {},
   "outputs": [
    {
     "data": {
      "text/plain": [
       "Index(['VIN (1-10)', 'County', 'City', 'State', 'Postal Code', 'Model Year',\n",
       "       'Make', 'Model', 'Electric Vehicle Type',\n",
       "       'Clean Alternative Fuel Vehicle (CAFV) Eligibility', 'Electric Range',\n",
       "       'Base MSRP', 'Legislative District', 'DOL Vehicle ID',\n",
       "       'Vehicle Location', 'Electric Utility', '2020 Census Tract'],\n",
       "      dtype='object')"
      ]
     },
     "execution_count": 457,
     "metadata": {},
     "output_type": "execute_result"
    }
   ],
   "source": [
    "# Get all columns\n",
    "df.columns"
   ]
  },
  {
   "cell_type": "code",
   "execution_count": 458,
   "metadata": {},
   "outputs": [
    {
     "data": {
      "text/plain": [
       "Index(['VIN (1-10)', 'Model Year', 'Make', 'Model', 'Electric Vehicle Type',\n",
       "       'Clean Alternative Fuel Vehicle (CAFV) Eligibility', 'Electric Range',\n",
       "       'Base MSRP', '2020 Census Tract'],\n",
       "      dtype='object')"
      ]
     },
     "execution_count": 458,
     "metadata": {},
     "output_type": "execute_result"
    }
   ],
   "source": [
    "# Dropping columns that are irrelivant to my questions\n",
    "df = df.drop([\"DOL Vehicle ID\",\"County\",\"City\", \"Legislative District\", \"Postal Code\", \"Vehicle Location\", \"Electric Utility\", \"State\"], axis=1)\n",
    "df.columns\n"
   ]
  },
  {
   "cell_type": "markdown",
   "metadata": {},
   "source": [
    "The model year is what year the model is from. The make is the company who made the car and the model is the car model usualy a number or word. The electric range is the distance the car can go on one electric charge. The base MSRP is the set cost of the car with no extra features or customization."
   ]
  },
  {
   "cell_type": "code",
   "execution_count": 459,
   "metadata": {},
   "outputs": [
    {
     "data": {
      "text/plain": [
       "18714"
      ]
     },
     "execution_count": 459,
     "metadata": {},
     "output_type": "execute_result"
    }
   ],
   "source": [
    "# Find number of duplicates\n",
    "df.duplicated().sum()"
   ]
  },
  {
   "cell_type": "code",
   "execution_count": 460,
   "metadata": {},
   "outputs": [],
   "source": [
    "# Remove all duplicates\n",
    "df = df.drop_duplicates()"
   ]
  },
  {
   "cell_type": "code",
   "execution_count": 461,
   "metadata": {},
   "outputs": [
    {
     "data": {
      "text/plain": [
       "0"
      ]
     },
     "execution_count": 461,
     "metadata": {},
     "output_type": "execute_result"
    }
   ],
   "source": [
    "df.duplicated().sum()"
   ]
  },
  {
   "cell_type": "code",
   "execution_count": 462,
   "metadata": {},
   "outputs": [
    {
     "data": {
      "text/plain": [
       "147948"
      ]
     },
     "execution_count": 462,
     "metadata": {},
     "output_type": "execute_result"
    }
   ],
   "source": [
    "# Finds the amount of duplicates for every model that may contain different values in other columns \n",
    "# so they would not be traditional considered duplicates\n",
    "df.duplicated([\"Model\"]).sum()\n"
   ]
  },
  {
   "cell_type": "code",
   "execution_count": 463,
   "metadata": {},
   "outputs": [],
   "source": [
    "# Removes duplicates for every model\n",
    "df = df.drop_duplicates([\"Model\"])"
   ]
  },
  {
   "cell_type": "code",
   "execution_count": 464,
   "metadata": {},
   "outputs": [
    {
     "data": {
      "text/plain": [
       "0"
      ]
     },
     "execution_count": 464,
     "metadata": {},
     "output_type": "execute_result"
    }
   ],
   "source": [
    "df.duplicated([\"Model\"]).sum()"
   ]
  },
  {
   "cell_type": "code",
   "execution_count": 465,
   "metadata": {},
   "outputs": [
    {
     "data": {
      "text/plain": [
       "VIN (1-10)                                           0\n",
       "Model Year                                           0\n",
       "Make                                                 0\n",
       "Model                                                0\n",
       "Electric Vehicle Type                                0\n",
       "Clean Alternative Fuel Vehicle (CAFV) Eligibility    0\n",
       "Electric Range                                       0\n",
       "Base MSRP                                            0\n",
       "2020 Census Tract                                    0\n",
       "dtype: int64"
      ]
     },
     "execution_count": 465,
     "metadata": {},
     "output_type": "execute_result"
    }
   ],
   "source": [
    "# Checks for null values\n",
    "df.isna().sum()"
   ]
  },
  {
   "cell_type": "markdown",
   "metadata": {},
   "source": [
    "## Section 1: Electric range\n",
    "What were top electric ranges of the cars by model and how does it compare when looking at the most expensive cars?"
   ]
  },
  {
   "cell_type": "code",
   "execution_count": 466,
   "metadata": {},
   "outputs": [
    {
     "name": "stdout",
     "output_type": "stream",
     "text": [
      "40.26086956521739\n"
     ]
    }
   ],
   "source": [
    "# Average electric range of the cars\n",
    "avg_range  = df[\"Electric Range\"].mean()\n",
    "print(avg_range)"
   ]
  },
  {
   "cell_type": "code",
   "execution_count": 467,
   "metadata": {},
   "outputs": [],
   "source": [
    "# Sorts the data to be by ELectric range in descending order\n",
    "# Done so I could compare the top cars by electric range\n",
    "df = df.sort_values([\"Electric Range\"], ascending=False, ignore_index=False).reset_index(drop=True)\n",
    "# Gets the models with the top 5 highest Electric ranges\n",
    "models = df[\"Model\"].head(5)\n"
   ]
  },
  {
   "cell_type": "markdown",
   "metadata": {},
   "source": [
    "Answering the first half of my first question, here were the top 5 models by electric range. The Model 3 being having the highest electric range out of the 5 at around 320 miles and I-Pace Bolt EV and NIRO models being tied at the lowest of the 5 at around 240 miles."
   ]
  },
  {
   "cell_type": "code",
   "execution_count": 468,
   "metadata": {},
   "outputs": [
    {
     "data": {
      "image/png": "[encoded data removed]",
      "text/plain": [
       "<Figure size 640x480 with 1 Axes>"
      ]
     },
     "metadata": {},
     "output_type": "display_data"
    }
   ],
   "source": [
    "\n",
    "# Histogram of the top 5 models and their electric ranges\n",
    "sns.histplot(data=df, x= models, y= \"Electric Range\", binwidth =10)\n",
    "plt.suptitle(\"Top 5 models by electric range\")\n",
    "plt.ylabel(\"Electric Range (Miles)\")\n",
    "plt.show()"
   ]
  },
  {
   "cell_type": "markdown",
   "metadata": {},
   "source": [
    "## Section 2: Price (Base MSRP)\n",
    "What were most and least expensive cars?\n",
    "Also includes answers to second half of first question."
   ]
  },
  {
   "cell_type": "code",
   "execution_count": 469,
   "metadata": {},
   "outputs": [
    {
     "name": "stdout",
     "output_type": "stream",
     "text": [
      "11087.210144927536\n"
     ]
    }
   ],
   "source": [
    "# Average price of the cars\n",
    "avg_price = df['Base MSRP'].mean()\n",
    "print(avg_price)"
   ]
  },
  {
   "cell_type": "code",
   "execution_count": 470,
   "metadata": {},
   "outputs": [
    {
     "name": "stdout",
     "output_type": "stream",
     "text": [
      "845000\n"
     ]
    }
   ],
   "source": [
    "# The range of prices\n",
    "price_range = df['Base MSRP'].max() - df['Base MSRP'].min()\n",
    "print(price_range)"
   ]
  },
  {
   "cell_type": "markdown",
   "metadata": {},
   "source": [
    "Here are the Base MSRP's of each car by model."
   ]
  },
  {
   "cell_type": "code",
   "execution_count": 471,
   "metadata": {},
   "outputs": [],
   "source": [
    "# Sort the data to be by Base MSRP in ascending order\n",
    "df = df.sort_values([\"Base MSRP\"], ascending=True, ignore_index=False).reset_index(drop=True)"
   ]
  },
  {
   "cell_type": "markdown",
   "metadata": {},
   "source": [
    "This scatterplot answers my second question showing the Base MSRPs for every model"
   ]
  },
  {
   "cell_type": "code",
   "execution_count": 472,
   "metadata": {},
   "outputs": [
    {
     "data": {
      "text/plain": [
       "Text(0, 0.5, 'Base MSRP (USD)')"
      ]
     },
     "execution_count": 472,
     "metadata": {},
     "output_type": "execute_result"
    },
    {
     "data": {
      "image/png": "[encoded data removed]",
      "text/plain": [
       "<Figure size 640x480 with 1 Axes>"
      ]
     },
     "metadata": {},
     "output_type": "display_data"
    }
   ],
   "source": [
    "# Scatter plot of Base MSRP by car model\n",
    "plt.title(\"Base MSRP vs Model\")\n",
    "sns.scatterplot(data=df, x= \"Model\", y=\"Base MSRP\")\n",
    "plt.ylabel(\"Base MSRP (USD)\")"
   ]
  },
  {
   "cell_type": "code",
   "execution_count": 473,
   "metadata": {},
   "outputs": [
    {
     "name": "stdout",
     "output_type": "stream",
     "text": [
      "     VIN (1-10)  Model Year        Make     Model  \\\n",
      "0    5YJ3E1EB8L        2020       TESLA   MODEL 3   \n",
      "1    KNDAEFS5XR        2024         KIA       EV9   \n",
      "2    5NMMCET19R        2024     GENESIS      GV70   \n",
      "3    7PDSGABA8P        2023      RIVIAN       R1S   \n",
      "4    JM1DRADB6N        2022       MAZDA     MX-30   \n",
      "..          ...         ...         ...       ...   \n",
      "123  ZACPDFCW2R        2024       DODGE    HORNET   \n",
      "124  KNDPZDAH5P        2023         KIA  SPORTAGE   \n",
      "125  YV4H60CE6R        2024       VOLVO      XC90   \n",
      "126  2C4RC1H7XJ        2018    CHRYSLER  PACIFICA   \n",
      "127  ZASPATCW4R        2024  ALFA ROMEO    TONALE   \n",
      "\n",
      "                      Electric Vehicle Type  \\\n",
      "0            Battery Electric Vehicle (BEV)   \n",
      "1            Battery Electric Vehicle (BEV)   \n",
      "2            Battery Electric Vehicle (BEV)   \n",
      "3            Battery Electric Vehicle (BEV)   \n",
      "4            Battery Electric Vehicle (BEV)   \n",
      "..                                      ...   \n",
      "123  Plug-in Hybrid Electric Vehicle (PHEV)   \n",
      "124  Plug-in Hybrid Electric Vehicle (PHEV)   \n",
      "125  Plug-in Hybrid Electric Vehicle (PHEV)   \n",
      "126  Plug-in Hybrid Electric Vehicle (PHEV)   \n",
      "127  Plug-in Hybrid Electric Vehicle (PHEV)   \n",
      "\n",
      "     Clean Alternative Fuel Vehicle (CAFV) Eligibility  Electric Range  \\\n",
      "0              Clean Alternative Fuel Vehicle Eligible             322   \n",
      "1    Eligibility unknown as battery range has not b...               0   \n",
      "2    Eligibility unknown as battery range has not b...               0   \n",
      "3    Eligibility unknown as battery range has not b...               0   \n",
      "4    Eligibility unknown as battery range has not b...               0   \n",
      "..                                                 ...             ...   \n",
      "123            Clean Alternative Fuel Vehicle Eligible              32   \n",
      "124            Clean Alternative Fuel Vehicle Eligible              34   \n",
      "125            Clean Alternative Fuel Vehicle Eligible              32   \n",
      "126            Clean Alternative Fuel Vehicle Eligible              33   \n",
      "127            Clean Alternative Fuel Vehicle Eligible              33   \n",
      "\n",
      "     Base MSRP  2020 Census Tract  \n",
      "0            0       5.303303e+10  \n",
      "1            0       5.303300e+10  \n",
      "2            0       5.306701e+10  \n",
      "3            0       5.306105e+10  \n",
      "4            0       5.303302e+10  \n",
      "..         ...                ...  \n",
      "123          0       5.307700e+10  \n",
      "124          0       5.306104e+10  \n",
      "125          0       5.303509e+10  \n",
      "126          0       5.303509e+10  \n",
      "127          0       5.303302e+10  \n",
      "\n",
      "[128 rows x 9 columns]\n"
     ]
    }
   ],
   "source": [
    "# Checking all of the models with a Base MSRP less than 20000\n",
    "# Done because many cars in the scatterplot seem to have a Base MSRP close to or equal to zero \n",
    "print(df.loc[df['Base MSRP'] < 20000])"
   ]
  },
  {
   "cell_type": "code",
   "execution_count": 474,
   "metadata": {},
   "outputs": [
    {
     "name": "stdout",
     "output_type": "stream",
     "text": [
      "     VIN (1-10)  Model Year                  Make      Model  \\\n",
      "128  KNDJX3AE6G        2016                   KIA       SOUL   \n",
      "129  1W9WL21B6A        2010  WHEEGO ELECTRIC CARS     WHEEGO   \n",
      "130  KNDJX3AE0J        2018                   KIA    SOUL EV   \n",
      "131  JF2GTDNCXK        2019                SUBARU  CROSSTREK   \n",
      "132  LREKK5RX9J        2018              CADILLAC        CT6   \n",
      "133  WBA7J2C51J        2018                   BMW       740E   \n",
      "134  5YJRE11B88        2008                 TESLA   ROADSTER   \n",
      "135  YH4K14AA0C        2012                FISKER      KARMA   \n",
      "136  WP0AH2A71J        2018               PORSCHE   PANAMERA   \n",
      "137  WP0CA2A13F        2015               PORSCHE        918   \n",
      "\n",
      "                      Electric Vehicle Type  \\\n",
      "128          Battery Electric Vehicle (BEV)   \n",
      "129  Plug-in Hybrid Electric Vehicle (PHEV)   \n",
      "130          Battery Electric Vehicle (BEV)   \n",
      "131  Plug-in Hybrid Electric Vehicle (PHEV)   \n",
      "132  Plug-in Hybrid Electric Vehicle (PHEV)   \n",
      "133  Plug-in Hybrid Electric Vehicle (PHEV)   \n",
      "134          Battery Electric Vehicle (BEV)   \n",
      "135  Plug-in Hybrid Electric Vehicle (PHEV)   \n",
      "136  Plug-in Hybrid Electric Vehicle (PHEV)   \n",
      "137  Plug-in Hybrid Electric Vehicle (PHEV)   \n",
      "\n",
      "    Clean Alternative Fuel Vehicle (CAFV) Eligibility  Electric Range  \\\n",
      "128           Clean Alternative Fuel Vehicle Eligible              93   \n",
      "129           Clean Alternative Fuel Vehicle Eligible             100   \n",
      "130           Clean Alternative Fuel Vehicle Eligible             111   \n",
      "131             Not eligible due to low battery range              17   \n",
      "132           Clean Alternative Fuel Vehicle Eligible              31   \n",
      "133             Not eligible due to low battery range              14   \n",
      "134           Clean Alternative Fuel Vehicle Eligible             220   \n",
      "135           Clean Alternative Fuel Vehicle Eligible              33   \n",
      "136             Not eligible due to low battery range              14   \n",
      "137             Not eligible due to low battery range              12   \n",
      "\n",
      "     Base MSRP  2020 Census Tract  \n",
      "128      31950       5.303509e+10  \n",
      "129      32995       5.306701e+10  \n",
      "130      33950       5.303302e+10  \n",
      "131      34995       5.303302e+10  \n",
      "132      75095       5.303301e+10  \n",
      "133      90700       5.303302e+10  \n",
      "134      98950       5.303302e+10  \n",
      "135     102000       5.306105e+10  \n",
      "136     184400       5.301104e+10  \n",
      "137     845000       5.303302e+10  \n"
     ]
    }
   ],
   "source": [
    "# All of the models with a base MSRP above 0\n",
    "print(df.loc[df['Base MSRP'] > 0])"
   ]
  },
  {
   "cell_type": "markdown",
   "metadata": {},
   "source": [
    "Here is every model with a Base MSRP above 0, more accurately and clearly answering my second question. With the 2016 Kia Soul having the lowest base MSRP besides zero at 31950$ and the 2015 PORSCHE 918 having the highest base MSRP at 845000$  "
   ]
  },
  {
   "cell_type": "code",
   "execution_count": 475,
   "metadata": {},
   "outputs": [
    {
     "ename": "NameError",
     "evalue": "name 'Prices' is not defined",
     "output_type": "error",
     "traceback": [
      "\u001b[0;31m---------------------------------------------------------------------------\u001b[0m",
      "\u001b[0;31mNameError\u001b[0m                                 Traceback (most recent call last)",
      "\u001b[1;32m/Users/elichandler/Documents/Data-Analysis/dataanalysis.ipynb Cell 33\u001b[0m line \u001b[0;36m4\n\u001b[1;32m      <a href='vscode-notebook-cell:/Users/elichandler/Documents/Data-Analysis/dataanalysis.ipynb#Y105sZmlsZQ%3D%3D?line=0'>1</a>\u001b[0m \u001b[39m# Scatter plot in ascending order of Base MSRP by every model with data that cotains a Base MSRP over 0\u001b[39;00m\n\u001b[1;32m      <a href='vscode-notebook-cell:/Users/elichandler/Documents/Data-Analysis/dataanalysis.ipynb#Y105sZmlsZQ%3D%3D?line=1'>2</a>\u001b[0m \u001b[39m# Done to get a more specific and accurate representation for the base MSRP of some of these cars\u001b[39;00m\n\u001b[1;32m      <a href='vscode-notebook-cell:/Users/elichandler/Documents/Data-Analysis/dataanalysis.ipynb#Y105sZmlsZQ%3D%3D?line=2'>3</a>\u001b[0m prices \u001b[39m=\u001b[39m df\u001b[39m.\u001b[39mloc[df[\u001b[39m'\u001b[39m\u001b[39mBase MSRP\u001b[39m\u001b[39m'\u001b[39m] \u001b[39m>\u001b[39m \u001b[39m0\u001b[39m]\n\u001b[0;32m----> <a href='vscode-notebook-cell:/Users/elichandler/Documents/Data-Analysis/dataanalysis.ipynb#Y105sZmlsZQ%3D%3D?line=3'>4</a>\u001b[0m prices \u001b[39m=\u001b[39m Prices\u001b[39m.\u001b[39msort_values([\u001b[39m\"\u001b[39m\u001b[39mBase MSRP\u001b[39m\u001b[39m\"\u001b[39m], ascending\u001b[39m=\u001b[39m\u001b[39mTrue\u001b[39;00m, ignore_index\u001b[39m=\u001b[39m\u001b[39mFalse\u001b[39;00m)\u001b[39m.\u001b[39mreset_index(drop\u001b[39m=\u001b[39m\u001b[39mTrue\u001b[39;00m)\n\u001b[1;32m      <a href='vscode-notebook-cell:/Users/elichandler/Documents/Data-Analysis/dataanalysis.ipynb#Y105sZmlsZQ%3D%3D?line=4'>5</a>\u001b[0m plt\u001b[39m.\u001b[39mtitle(\u001b[39m\"\u001b[39m\u001b[39mBase MSRP vs Model (>0)\u001b[39m\u001b[39m\"\u001b[39m)\n\u001b[1;32m      <a href='vscode-notebook-cell:/Users/elichandler/Documents/Data-Analysis/dataanalysis.ipynb#Y105sZmlsZQ%3D%3D?line=5'>6</a>\u001b[0m plt\u001b[39m.\u001b[39mylabel(\u001b[39m\"\u001b[39m\u001b[39mBase MSRP (USD)\u001b[39m\u001b[39m\"\u001b[39m)\n",
      "\u001b[0;31mNameError\u001b[0m: name 'Prices' is not defined"
     ]
    }
   ],
   "source": [
    "# Scatter plot in ascending order of Base MSRP by every model with data that cotains a Base MSRP over 0\n",
    "# Done to get a more specific and accurate representation for the base MSRP of some of these cars\n",
    "prices = df.loc[df['Base MSRP'] > 0]\n",
    "prices = prices.sort_values([\"Base MSRP\"], ascending=True, ignore_index=False).reset_index(drop=True)\n",
    "plt.title(\"Base MSRP vs Model (>0)\")\n",
    "plt.ylabel(\"Base MSRP (USD)\")\n",
    "sns.scatterplot(data=prices, x= \"Model\", y= \"Base MSRP\")"
   ]
  },
  {
   "cell_type": "code",
   "execution_count": null,
   "metadata": {},
   "outputs": [
    {
     "name": "stdout",
     "output_type": "stream",
     "text": [
      "   VIN (1-10)  Model Year Make Model           Electric Vehicle Type  \\\n",
      "0  KNDJX3AE6G        2016  KIA  SOUL  Battery Electric Vehicle (BEV)   \n",
      "\n",
      "  Clean Alternative Fuel Vehicle (CAFV) Eligibility  Electric Range  \\\n",
      "0           Clean Alternative Fuel Vehicle Eligible              93   \n",
      "\n",
      "   Base MSRP  2020 Census Tract  \n",
      "0      31950       5.303509e+10  \n"
     ]
    }
   ],
   "source": [
    "# To get exact values and model for least expensive car\n",
    "print(prices.head(1))"
   ]
  },
  {
   "cell_type": "code",
   "execution_count": null,
   "metadata": {},
   "outputs": [
    {
     "name": "stdout",
     "output_type": "stream",
     "text": [
      "   VIN (1-10)  Model Year     Make Model  \\\n",
      "9  WP0CA2A13F        2015  PORSCHE   918   \n",
      "\n",
      "                    Electric Vehicle Type  \\\n",
      "9  Plug-in Hybrid Electric Vehicle (PHEV)   \n",
      "\n",
      "  Clean Alternative Fuel Vehicle (CAFV) Eligibility  Electric Range  \\\n",
      "9             Not eligible due to low battery range              12   \n",
      "\n",
      "   Base MSRP  2020 Census Tract  \n",
      "9     845000       5.303302e+10  \n"
     ]
    }
   ],
   "source": [
    "# To get exact values and model for most expensive car\n",
    "print(prices.loc[prices[\"Base MSRP\"] > 800000])"
   ]
  },
  {
   "cell_type": "code",
   "execution_count": null,
   "metadata": {},
   "outputs": [],
   "source": [
    "# Sorting the dataset to base MSRP in descending order\n",
    "df = df.sort_values([\"Base MSRP\"], ascending=False, ignore_index=False).reset_index(drop=True)\n",
    "# Top 5 most expenive models\n",
    "expensive_models = df[\"Model\"].head(5)"
   ]
  },
  {
   "cell_type": "code",
   "execution_count": null,
   "metadata": {},
   "outputs": [
    {
     "name": "stdout",
     "output_type": "stream",
     "text": [
      "0                  918\n",
      "1             PANAMERA\n",
      "2                KARMA\n",
      "3             ROADSTER\n",
      "4                 740E\n",
      "            ...       \n",
      "95               OCEAN\n",
      "96    HUMMER EV PICKUP\n",
      "97                  I5\n",
      "98           BLAZER EV\n",
      "99                  I7\n",
      "Name: Model, Length: 100, dtype: object\n"
     ]
    }
   ],
   "source": [
    "# Top 100 most expensive cars\n",
    "print(df[\"Model\"].head(100))"
   ]
  },
  {
   "cell_type": "markdown",
   "metadata": {},
   "source": [
    "This histogram answers the second half of my first question showing the electric range of the top 5 most expensive cars with the Roadster the 4 most expensive ar having the highest eletric rangeo ut of all of them at just above 200 miles which is still lower than the electric range of all of the cars in the top 5 for electric range. Even the it is the most expensive car the 918 has a electric range of below 50 miles."
   ]
  },
  {
   "cell_type": "code",
   "execution_count": null,
   "metadata": {},
   "outputs": [
    {
     "data": {
      "image/png": "[encoded data removed]",
      "text/plain": [
       "<Figure size 640x480 with 1 Axes>"
      ]
     },
     "metadata": {},
     "output_type": "display_data"
    }
   ],
   "source": [
    "# Histogram camparing the electric range of the most expensive cars in the dataset\n",
    "sns.histplot(data=df, x= expensive_models, y= \"Electric Range\", binwidth =10)\n",
    "plt.suptitle(\"The electric range of top 5 most expensive cars \")\n",
    "plt.show()"
   ]
  },
  {
   "cell_type": "markdown",
   "metadata": {},
   "source": [
    "## Section 3: Model Year\n",
    "Which car has the oldest / newest model year and how does that affect price/base MSRP?\n"
   ]
  },
  {
   "cell_type": "code",
   "execution_count": null,
   "metadata": {},
   "outputs": [],
   "source": [
    "df = df.sort_values([\"Model Year\"], ascending=False, ignore_index=False).reset_index(drop=True)"
   ]
  },
  {
   "cell_type": "markdown",
   "metadata": {},
   "source": [
    "The newest car has a modle year of 2024 and is the BMW model 17"
   ]
  },
  {
   "cell_type": "code",
   "execution_count": null,
   "metadata": {},
   "outputs": [
    {
     "name": "stdout",
     "output_type": "stream",
     "text": [
      "   VIN (1-10)  Model Year Make Model           Electric Vehicle Type  \\\n",
      "0  WBY53EJ03R        2024  BMW    I7  Battery Electric Vehicle (BEV)   \n",
      "\n",
      "   Clean Alternative Fuel Vehicle (CAFV) Eligibility  Electric Range  \\\n",
      "0  Eligibility unknown as battery range has not b...               0   \n",
      "\n",
      "   Base MSRP  2020 Census Tract  \n",
      "0          0       5.303302e+10  \n"
     ]
    }
   ],
   "source": [
    "# Exact values for the Model and Model year of the newest car\n",
    "print(df.head(1))"
   ]
  },
  {
   "cell_type": "code",
   "execution_count": null,
   "metadata": {},
   "outputs": [],
   "source": [
    "# Sorting the dataset by model year in ascending order\n",
    "df = df.sort_values([\"Model Year\"], ascending=True, ignore_index=False).reset_index(drop=True)"
   ]
  },
  {
   "cell_type": "markdown",
   "metadata": {},
   "source": [
    "The oldest car has a model year of 1997 and is the CHEVROLET S-10 PICKUP.  "
   ]
  },
  {
   "cell_type": "code",
   "execution_count": null,
   "metadata": {},
   "outputs": [
    {
     "name": "stdout",
     "output_type": "stream",
     "text": [
      "   VIN (1-10)  Model Year       Make        Model  \\\n",
      "0  1GCDE14HXV        1997  CHEVROLET  S-10 PICKUP   \n",
      "\n",
      "            Electric Vehicle Type  \\\n",
      "0  Battery Electric Vehicle (BEV)   \n",
      "\n",
      "  Clean Alternative Fuel Vehicle (CAFV) Eligibility  Electric Range  \\\n",
      "0           Clean Alternative Fuel Vehicle Eligible              39   \n",
      "\n",
      "   Base MSRP  2020 Census Tract  \n",
      "0          0       5.306105e+10  \n"
     ]
    }
   ],
   "source": [
    "# Exact values for the Model and Model year of the oldest car\n",
    "print(df.head(1))"
   ]
  },
  {
   "cell_type": "markdown",
   "metadata": {},
   "source": [
    "Here is a scatter plot of every model year by model with any of the car models sharing the same model year"
   ]
  },
  {
   "cell_type": "code",
   "execution_count": null,
   "metadata": {},
   "outputs": [
    {
     "data": {
      "text/plain": [
       "<Axes: title={'center': 'Model Year vs Model'}, xlabel='Model', ylabel='Model Year'>"
      ]
     },
     "execution_count": 451,
     "metadata": {},
     "output_type": "execute_result"
    },
    {
     "data": {
      "image/png": "[encoded data removed]",
      "text/plain": [
       "<Figure size 640x480 with 1 Axes>"
      ]
     },
     "metadata": {},
     "output_type": "display_data"
    }
   ],
   "source": [
    "# Scatter plot of every model year by car model\n",
    "plt.title(\"Model Year vs Model\")\n",
    "sns.scatterplot(data=df, x=\"Model\", y=\"Model Year\")"
   ]
  },
  {
   "cell_type": "markdown",
   "metadata": {},
   "source": [
    "This scatter plot of the Base MSRP of each car by Model Year answers the second part of my qeustions.\n",
    "There seems to be no corrilation which the base MSRP and model year with the most expensive car not \n",
    "being the newest and the old car not being the least expensive. There is also no general trend from the \n",
    "rest of the prices that would show that price increases when comparing model year. The most expensive car the being from 2015 and being far more expensive then models form later on like 2016, 2018 and beyond."
   ]
  },
  {
   "cell_type": "code",
   "execution_count": null,
   "metadata": {},
   "outputs": [
    {
     "data": {
      "text/plain": [
       "<Axes: title={'center': 'Model Year vs Base MSRP'}, xlabel='Model Year', ylabel='Base MSRP'>"
      ]
     },
     "execution_count": 452,
     "metadata": {},
     "output_type": "execute_result"
    },
    {
     "data": {
      "image/png": "[encoded data removed]",
      "text/plain": [
       "<Figure size 640x480 with 1 Axes>"
      ]
     },
     "metadata": {},
     "output_type": "display_data"
    }
   ],
   "source": [
    "# Scatterplot of the Base MSRP of each car by Model Year\n",
    "plt.title(\"Model Year vs Base MSRP\")\n",
    "sns.scatterplot(data=df.loc[df['Base MSRP'] > 0], x=\"Model Year\", y=\"Base MSRP\")"
   ]
  },
  {
   "cell_type": "markdown",
   "metadata": {},
   "source": [
    "## What I would imporove/fix?\n",
    "I could have improved some of the graphs because the text would sometimes overlap making it hard to read.\n",
    "I could also have imrpoved my histograms because there seems to be a bug because the full bars are not there only rectangles. The data could have been improved becasue for columns like the base MSRP a lot of the values were 0. I also had to remove a lot of extra duplicates because they contained different values for coluns that I was not looking at so they for this project counted as duplicates. My conclusion one model year not effecting price/base MSRP may also become inaccurate in the future due to electric cars not being around for that long with the oldest model in this dataset being from 1997 which is less than 30 years ago. Also for many of the models the base MSRP was 0 which may have affect my conclusion. "
   ]
  },
  {
   "cell_type": "markdown",
   "metadata": {},
   "source": [
    "## What further uses are there of this data?\n",
    "One further use is I could also have analyzed the columns relating to the different locations. I could have also used the Make column aswell as the model column to do more comparisons.\n",
    "## Would it be worth training a machine learning model on it? What predictions would you hope to make?  \n",
    "I think this data could also be worth training a machine learning model to to find the best or most efficiant cars by price range or location which would be very helpful for people who wanted to buy an electric vehicle and may not be as familar with the market. This data could also be worth training a machine learning model to make predictions on attributes of future models of electric cars."
   ]
  }
 ],
 "metadata": {
  "kernelspec": {
   "display_name": ".venv",
   "language": "python",
   "name": "python3"
  },
  "language_info": {
   "codemirror_mode": {
    "name": "ipython",
    "version": 3
   },
   "file_extension": ".py",
   "mimetype": "text/x-python",
   "name": "python",
   "nbconvert_exporter": "python",
   "pygments_lexer": "ipython3",
   "version": "3.11.5"
  },
  "orig_nbformat": 4
 },
 "nbformat": 4,
 "nbformat_minor": 2
}
